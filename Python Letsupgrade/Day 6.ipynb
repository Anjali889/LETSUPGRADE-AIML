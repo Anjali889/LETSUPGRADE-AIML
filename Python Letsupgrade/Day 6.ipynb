{
 "cells": [
  {
   "cell_type": "code",
   "execution_count": 1,
   "metadata": {},
   "outputs": [
    {
     "name": "stdout",
     "output_type": "stream",
     "text": [
      "john@google.com\n",
      "google "
     ]
    }
   ],
   "source": [
    "#program no 1\n",
    "i=input()\n",
    "x=i.index(\"@\")\n",
    "print(i[x+1:len(i)-4],end=\" \")"
   ]
  },
  {
   "cell_type": "code",
   "execution_count": 2,
   "metadata": {},
   "outputs": [
    {
     "name": "stdout",
     "output_type": "stream",
     "text": [
      "Input comma separated   without,hello,bag,world\n",
      "   without,bag,hello,world\n"
     ]
    }
   ],
   "source": [
    "#program no 2nd\n",
    "i=input(\"Input comma separated\")\n",
    "w=[w for w in i.split(\",\")]\n",
    "print(\",\".join(sorted(list(set(w)))))"
   ]
  },
  {
   "cell_type": "code",
   "execution_count": 3,
   "metadata": {},
   "outputs": [
    {
     "name": "stdout",
     "output_type": "stream",
     "text": [
      "Data saved to file successfully.\n",
      "True\n"
     ]
    },
    {
     "name": "stderr",
     "output_type": "stream",
     "text": [
      "{'cherry', 'apple', 'banana'}\n",
      "cherry\n",
      "apple\n",
      "banana\n"
     ]
    }
   ],
   "source": [
    "#program no 3rd\n",
    "import sys\n",
    "sampleSet = {\"apple\", \"banana\", \"cherry\"}\n",
    "\n",
    "sampleSet= {\"apple\", \"banana\", \"cherry\"}\n",
    " \n",
    "str1=\"sampleSet=\" + str(sampleSet) +\"\\n\"\n",
    "\n",
    "str2=\"sampleSet=\"+str(sampleSet)+\"\\n\"\n",
    "\n",
    "original_stdout = sys.stdout\n",
    "f=open(\"Set.ipymb\",'w')\n",
    "f.write(str1)\n",
    "sys.stdout = sys.stderr\n",
    "print(sampleSet) \n",
    "sys.stdout = original_stdout\n",
    "f.write(str2)\n",
    "sys.stdout = sys.stderr\n",
    "for x in sampleSet:\n",
    "    print(x)\n",
    "sys.stdout = original_stdout\n",
    "f.close()\n",
    "print(\"Data saved to file successfully.\")\n",
    "print(f.closed)"
   ]
  },
  {
   "cell_type": "code",
   "execution_count": 4,
   "metadata": {},
   "outputs": [
    {
     "name": "stdout",
     "output_type": "stream",
     "text": [
      "Enter the value n:1 2 4 6 3 7\n",
      "5\n"
     ]
    }
   ],
   "source": [
    "#program no 4\n",
    "a=list(input(\"Enter the value n:\"))\n",
    "b=a.count(\" \")\n",
    "for i in range(b):\n",
    "    a.remove(\" \")\n",
    "a.sort()\n",
    "for j in range(0,len(a)):\n",
    "    a[j]=int(a[j])\n",
    "for j in a:\n",
    "    b=a[j+1]-a[j]\n",
    "    if(b!=1):\n",
    "        print(a[j]+1)\n",
    "        break"
   ]
  },
  {
   "cell_type": "code",
   "execution_count": 5,
   "metadata": {},
   "outputs": [
    {
     "name": "stdout",
     "output_type": "stream",
     "text": [
      "[12, 24, 35, 88, 120, 155]\n"
     ]
    }
   ],
   "source": [
    "#program no 5\n",
    "a=[12,24,35,88,120,155,88,120,155]\n",
    "d=[]\n",
    "u=set()\n",
    "for x in a:\n",
    "    if x not in d:\n",
    "        u.add(x)\n",
    "        d.append(x)\n",
    "print(d)"
   ]
  },
  {
   "cell_type": "code",
   "execution_count": null,
   "metadata": {},
   "outputs": [],
   "source": []
  }
 ],
 "metadata": {
  "kernelspec": {
   "display_name": "Python 3",
   "language": "python",
   "name": "python3"
  },
  "language_info": {
   "codemirror_mode": {
    "name": "ipython",
    "version": 3
   },
   "file_extension": ".py",
   "mimetype": "text/x-python",
   "name": "python",
   "nbconvert_exporter": "python",
   "pygments_lexer": "ipython3",
   "version": "3.7.6"
  }
 },
 "nbformat": 4,
 "nbformat_minor": 4
}
