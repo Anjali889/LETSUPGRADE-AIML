{
 "cells": [
  {
   "cell_type": "code",
   "execution_count": 10,
   "metadata": {},
   "outputs": [
    {
     "name": "stdout",
     "output_type": "stream",
     "text": [
      "3 5 7 11 13 17 19 23 29 31 37 41 43 47 53 59 61 67 71 73 "
     ]
    }
   ],
   "source": [
    "#program no 1\n",
    "for val in range(3,78+1):\n",
    "    if val>1:\n",
    "        for n in range(2,val//2+2):\n",
    "            if (val%n)==0:\n",
    "                break\n",
    "            else:\n",
    "                if n==val//2+1:\n",
    "                    print(val,end=\" \")"
   ]
  },
  {
   "cell_type": "markdown",
   "metadata": {},
   "source": []
  },
  {
   "cell_type": "code",
   "execution_count": 11,
   "metadata": {},
   "outputs": [
    {
     "name": "stdout",
     "output_type": "stream",
     "text": [
      "quality\n",
      "AIML\n",
      "Lettupgrade\n",
      "letsupgrade\n",
      "['Anita']\n",
      "False\n",
      "False\n",
      "True\n",
      "Mane\n",
      "Sheetal\n",
      "Geeta\n"
     ]
    }
   ],
   "source": [
    "#program no 2\n",
    "a=\"Quality\"\n",
    "print(a.lower())\n",
    "b=\"Aiml\"\n",
    "print(b.upper())\n",
    "c=\"Letsupgrade\"\n",
    "print(c.replace(\"s\",\"t\"))\n",
    "d=\"Letsupgrade\"\n",
    "print(d.casefold())\n",
    "e=\"Anita\"\n",
    "print(e.split())\n",
    "f=\"Patil\"\n",
    "print(e.islower())\n",
    "g=\"GODSE\"\n",
    "print(e.isupper())\n",
    "f=\"1\"\n",
    "print(f.isnumeric())\n",
    "g=\"Mane\"\n",
    "print(g.lstrip())\n",
    "h=\"Sheetal\"\n",
    "print(h.rstrip())\n",
    "i=\"Geeta\"\n",
    "print(i.replace(\"oldvalue\",\"one\"))\n",
    "\n"
   ]
  },
  {
   "cell_type": "code",
   "execution_count": 12,
   "metadata": {},
   "outputs": [
    {
     "name": "stdout",
     "output_type": "stream",
     "text": [
      "Enter the world:heart\n",
      "Enter the world:water\n",
      "None\n"
     ]
    }
   ],
   "source": [
    "#program no 3\n",
    "string1=input(\"Enter the world:\")\n",
    "rev_string=string1[::-1]\n",
    "if rev_string==string1:\n",
    "    print(\"polindrome\")\n",
    "else:\n",
    "    string2=input(\"Enter the world:\")\n",
    "    str1=sorted(string1)\n",
    "    str2=sorted(string2)\n",
    "    if str1==str2:\n",
    "        print('Anagrams')\n",
    "    else:\n",
    "        print(\"None\")"
   ]
  },
  {
   "cell_type": "code",
   "execution_count": 13,
   "metadata": {},
   "outputs": [
    {
     "name": "stdout",
     "output_type": "stream",
     "text": [
      "String is: Dr.Darshan Ingle @AI-ML Trainer\n",
      "After removing all special characters from string\n",
      "Resultant string is: dr.darshan ingle  ai ml trainer\n"
     ]
    }
   ],
   "source": [
    "#program no 4\n",
    "def replace_char(y):\n",
    "    invalid_list = ['!','@','#','$','%','^','&','*','(',')','+','-','_',':','-',\" \"]\n",
    "    for i in invalid_list:\n",
    "        y = y.replace(i,' ')\n",
    "        y = y.lower()\n",
    "    print(\"After removing all special characters from string\")\n",
    "    print(\"Resultant string is:\",y)\n",
    "    \n",
    "string_5 = 'Dr.Darshan Ingle @AI-ML Trainer'\n",
    "print(\"String is:\",string_5)\n",
    "replace_char(string_5)"
   ]
  },
  {
   "cell_type": "code",
   "execution_count": null,
   "metadata": {},
   "outputs": [],
   "source": []
  }
 ],
 "metadata": {
  "kernelspec": {
   "display_name": "Python 3",
   "language": "python",
   "name": "python3"
  },
  "language_info": {
   "codemirror_mode": {
    "name": "ipython",
    "version": 3
   },
   "file_extension": ".py",
   "mimetype": "text/x-python",
   "name": "python",
   "nbconvert_exporter": "python",
   "pygments_lexer": "ipython3",
   "version": "3.7.6"
  }
 },
 "nbformat": 4,
 "nbformat_minor": 4
}
